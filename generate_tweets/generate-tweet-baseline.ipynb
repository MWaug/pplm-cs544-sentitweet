{
 "cells": [
  {
   "cell_type": "code",
   "execution_count": null,
   "metadata": {
    "collapsed": true
   },
   "outputs": [],
   "source": [
    "!pip install torch==1.7.1\n",
    "!pip install nltk==3.4.5\n",
    "!pip install colorama==0.4.4\n",
    "!pip install transformers==3.4.0\n",
    "!pip install torchtext==0.3.1\n",
    "!pip install pandas"
   ]
  },
  {
   "cell_type": "code",
   "execution_count": null,
   "outputs": [],
   "source": [
    "import pandas as pd\n",
    "import random\n",
    "\n",
    "print(\"Generating prefixes\")\n",
    "\n",
    "df = pd.read_csv('/kaggle/input/pplm-project/dataset_preprocessed.tsv', header=None, sep='\\t', on_bad_lines='skip')\n",
    "df = df[1].astype(str)\n",
    "\n",
    "rand_prefix = []\n",
    "for tweet in df.sample(n=500, replace=True).values.tolist():\n",
    "    rand_prefix.append((\"positive\", \" \".join(tweet.split()[:min(random.randint(3,5),len(tweet.split()))])))\n",
    "for tweet in df.sample(n=500, replace=True).values.tolist():\n",
    "    rand_prefix.append((\"negative\", \" \".join(tweet.split()[:min(random.randint(3,5),len(tweet.split()))])))\n",
    "\n",
    "pos_neg_dict = {\n",
    "    \"positive\": 2,\n",
    "    \"negative\": 3\n",
    "}\n",
    "\n",
    "print(\"{num_prefixes} prefixes have been generated\".format(num_prefixes=len(rand_prefix)))"
   ],
   "metadata": {
    "collapsed": false
   }
  },
  {
   "cell_type": "code",
   "execution_count": null,
   "outputs": [],
   "source": [
    "import random\n",
    "import csv\n",
    "import joblib\n",
    "\n",
    "generated_tweets = []\n",
    "for i in range(0,len(rand_prefix)):\n",
    "    print(\"{iteration}\\tGenerating {sentiment} tweet with prefix '{prefix}'\".format(\n",
    "        iteration=i,\n",
    "        sentiment=rand_prefix[i][0],\n",
    "        prefix=rand_prefix[i][1]\n",
    "    ))\n",
    "    output = !python \\\n",
    "        /kaggle/input/pplm-project/run_pplm.py \\\n",
    "        --discrim sentiment \\\n",
    "        --class_label {pos_neg_dict[rand_prefix[i][0]]} \\\n",
    "        --cond_text \"{rand_prefix[i][1]}\" \\\n",
    "        --length 40 \\\n",
    "        --gamma 1.0 \\\n",
    "        --num_iterations 3 \\\n",
    "        --num_samples 1 \\\n",
    "        --stepsize 0.04 \\\n",
    "        --kl_scale 0.01 \\\n",
    "        --gm_scale 0.95 \\\n",
    "        --verbosity quiet\n",
    "    generated_tweets.append((rand_prefix[i][0], rand_prefix[i][1] , \" \".join(output).split(\"= Perturbed generated text 1 = <|endoftext|>\")[1].strip()))\n",
    "random.shuffle(generated_tweets)\n",
    "\n",
    "print(\"Writing output to file for automatic evaluation\")\n",
    "with open(\"baseline_generated_tweets.tsv\",\"w+\") as output_file:\n",
    "    outputWriter = csv.writer(output_file, delimiter='\\t')\n",
    "    outputWriter.writerow([\"input_sentiment\", \"prefix\", \"generated_tweet\"])\n",
    "    outputWriter.writerows(generated_tweets)\n",
    "\n",
    "random.shuffle(generated_tweets)\n",
    "print(\"Writing output to file for manual evaluation\")\n",
    "with open(\"baseline_generated_tweets_MANUAL.tsv\",\"w+\") as output_file:\n",
    "    outputWriter = csv.writer(output_file, delimiter='\\t')\n",
    "    outputWriter.writerow([\"input_sentiment\", \"prefix\", \"generated_tweet\"])\n",
    "    outputWriter.writerows(generated_tweets[0:150])\n",
    "\n",
    "print(\"############ COMPLETE ############\")"
   ],
   "metadata": {
    "collapsed": false
   }
  }
 ],
 "metadata": {
  "kernelspec": {
   "display_name": "Python 3",
   "language": "python",
   "name": "python3"
  },
  "language_info": {
   "codemirror_mode": {
    "name": "ipython",
    "version": 2
   },
   "file_extension": ".py",
   "mimetype": "text/x-python",
   "name": "python",
   "nbconvert_exporter": "python",
   "pygments_lexer": "ipython2",
   "version": "2.7.6"
  }
 },
 "nbformat": 4,
 "nbformat_minor": 0
}
